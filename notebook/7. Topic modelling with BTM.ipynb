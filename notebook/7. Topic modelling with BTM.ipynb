{
 "cells": [
  {
   "cell_type": "markdown",
   "id": "ada36560",
   "metadata": {},
   "source": [
    "# Ideias\n",
    "Procurar palavras que aparecem mais em comum com outras (e.g Bolsonaro, Lula, presidente, etc.)"
   ]
  },
  {
   "cell_type": "code",
   "execution_count": null,
   "id": "thick-cisco",
   "metadata": {},
   "outputs": [],
   "source": [
    "from nltk.corpus import stopwords\n",
    "from tqdm import tqdm\n",
    "from sklearn.feature_extraction.text import CountVectorizer\n",
    "from tmtoolkit.topicmod.evaluate import metric_coherence_gensim\n",
    "from wordcloud import WordCloud\n",
    "\n",
    "import bitermplus as btm\n",
    "import matplotlib.pyplot as plt\n",
    "import numpy as np\n",
    "import pandas as pd\n",
    "import tmplot as tmp # topic modelling visualizer lib"
   ]
  },
  {
   "cell_type": "markdown",
   "id": "4793dfbe",
   "metadata": {},
   "source": [
    "# Vectorizers"
   ]
  },
  {
   "cell_type": "code",
   "execution_count": null,
   "id": "selected-fiber",
   "metadata": {},
   "outputs": [],
   "source": [
    "data = pd.read_csv('../data/processed/preprocessed_lemma_dataset.csv')\n",
    "data.head()"
   ]
  },
  {
   "cell_type": "markdown",
   "id": "f1a491c0",
   "metadata": {},
   "source": [
    "## Removing accents"
   ]
  },
  {
   "cell_type": "code",
   "execution_count": null,
   "id": "707d4219",
   "metadata": {},
   "outputs": [],
   "source": [
    "data['full_text_lemmas'] = data['full_text_lemmas'].str.normalize('NFKD').str.encode('ascii', errors='ignore').str.decode('utf-8')"
   ]
  },
  {
   "cell_type": "markdown",
   "id": "190d11e9",
   "metadata": {},
   "source": [
    "# Visualizing"
   ]
  },
  {
   "cell_type": "markdown",
   "id": "f7f65eac",
   "metadata": {},
   "source": [
    "## Word cloud"
   ]
  },
  {
   "cell_type": "code",
   "execution_count": null,
   "id": "4ef9434d",
   "metadata": {},
   "outputs": [],
   "source": [
    "text = ''\n",
    "for video in data['full_text_lemmas']:\n",
    "    text = text + ' ' + video\n",
    "    \n",
    "plt.figure(figsize=(17, 10))\n",
    "word_cloud = WordCloud(collocations = False, background_color = 'white').generate(text)\n",
    "plt.imshow(word_cloud, interpolation='bilinear')\n",
    "plt.axis(\"off\")\n",
    "plt.show()"
   ]
  },
  {
   "cell_type": "markdown",
   "id": "00bf840b",
   "metadata": {},
   "source": [
    "# BTM"
   ]
  },
  {
   "cell_type": "code",
   "execution_count": null,
   "id": "526172ad",
   "metadata": {},
   "outputs": [],
   "source": [
    "def train_btm(topic_numbers):\n",
    "    model = btm.BTM(X, vocabulary, seed=42, T=topic_numbers, M=20, alpha=50/topic_numbers, beta=10)\n",
    "    model.fit(biterms, iterations=50, verbose=False)\n",
    "    return model"
   ]
  },
  {
   "cell_type": "code",
   "execution_count": null,
   "id": "01bc5e58",
   "metadata": {},
   "outputs": [],
   "source": [
    "# Obtaining terms frequency in a sparse matrix and corpus vocabulary\n",
    "texts = data['full_text_lemmas'].str.strip().tolist()\n",
    "\n",
    "count_vector_kwargs = dict(ngram_range=(1,2), min_df=30, max_features=1000)\n",
    "X, vocabulary, vocab_dict = btm.get_words_freqs(texts,**count_vector_kwargs)\n",
    "\n",
    "# Vectorizing documents\n",
    "docs_vec = btm.get_vectorized_docs(texts, vocabulary)\n",
    "docs_lens = list(map(len, docs_vec))\n",
    "\n",
    "# Generating biterms\n",
    "biterms = btm.get_biterms(docs_vec)"
   ]
  },
  {
   "cell_type": "code",
   "execution_count": null,
   "id": "c92dc632",
   "metadata": {},
   "outputs": [],
   "source": [
    "cluster_number = []\n",
    "coherences_std = []\n",
    "coherences_avg = []\n",
    "coherences_median = []\n",
    "for k in tqdm(range(10, 31)):\n",
    "    model = train_btm(k)\n",
    "    coherence = metric_coherence_gensim('u_mass',\n",
    "                                       top_n=6, \n",
    "                                       topic_word_distrib=model.matrix_topics_words_,\n",
    "                                       dtm=X,\n",
    "                                       vocab=vocabulary, \n",
    "                                       texts=data['full_text_lemmas'].values)\n",
    "    \n",
    "    # Add metrics\n",
    "    cluster_number.append(k)\n",
    "    coherences_std.append(np.std(coherence))\n",
    "    coherences_avg.append(np.mean(coherence))\n",
    "    coherences_median.append(np.median(coherence))\n",
    "    \n",
    "# Results\n",
    "cluster_optimization_df = pd.DataFrame(data = [cluster_number, coherences_std, coherences_median, coherences_avg]).T\n",
    "cluster_optimization_df.columns = ['cluster_number', 'coherence_std', 'coherence_median', 'coherence_avg']\n",
    "cluster_optimization_df[['cluster_number', 'coherence_median', 'coherence_avg', 'coherence_std']].sort_values('coherence_avg', ascending=False)"
   ]
  },
  {
   "cell_type": "markdown",
   "id": "593ef6d6",
   "metadata": {},
   "source": [
    "### BTM Inference"
   ]
  },
  {
   "cell_type": "code",
   "execution_count": null,
   "id": "799e804f",
   "metadata": {},
   "outputs": [],
   "source": [
    "NUMBER_OF_TOPICS = 12\n",
    "\n",
    "model = train_btm(NUMBER_OF_TOPICS)\n",
    "data['topic_btm'] = np.argmax(model.transform(docs_vec), axis=1)\n",
    "data['topic_btm'].value_counts()"
   ]
  },
  {
   "cell_type": "markdown",
   "id": "3d93af80",
   "metadata": {},
   "source": [
    "# Mapping topics"
   ]
  },
  {
   "cell_type": "code",
   "execution_count": null,
   "id": "faa8d31b",
   "metadata": {},
   "outputs": [],
   "source": [
    "btm_topic_maps = {\n",
    "    0:  'Lula',\n",
    "    1:  'Economy',\n",
    "    2:  'Social Issues',\n",
    "    3:  'Religion',\n",
    "    4:  'Political Economic',\n",
    "    5:  'Social Classes',\n",
    "    6:  'Humor',\n",
    "    7:  'Corruption',\n",
    "    8:  'Bolsonaro',\n",
    "    9:  'Elections',\n",
    "    10: 'Covid',\n",
    "    11: 'Science'\n",
    "}\n",
    "data['topic_btm'] = data['topic_btm'].map(btm_topic_maps)\n",
    "\n",
    "assert data['topic_btm'].isnull().sum() == 0"
   ]
  },
  {
   "cell_type": "code",
   "execution_count": null,
   "id": "fc619920",
   "metadata": {},
   "outputs": [],
   "source": [
    "data['topic_btm'].value_counts(True) * 100"
   ]
  },
  {
   "cell_type": "code",
   "execution_count": null,
   "id": "6725d20c",
   "metadata": {
    "scrolled": false
   },
   "outputs": [],
   "source": [
    "tmp.report(model=model, docs=texts, width=200)"
   ]
  },
  {
   "cell_type": "markdown",
   "id": "a20ed6d0",
   "metadata": {},
   "source": [
    "## Word cloud"
   ]
  },
  {
   "cell_type": "code",
   "execution_count": null,
   "id": "42e8293d",
   "metadata": {
    "scrolled": false
   },
   "outputs": [],
   "source": [
    "fig = plt.figure(figsize=(17,7))\n",
    "position = 1\n",
    "for cluster in np.sort(data['topic_btm'].unique()):\n",
    "    text = ''\n",
    "    \n",
    "    cluster_data = data.loc[data['topic_btm'] == cluster]\n",
    "    for video in cluster_data['full_text_lemmas']:\n",
    "        text = text + ' ' + video\n",
    "\n",
    "    ax = fig.add_subplot(5, 3, position)\n",
    "    word_cloud = WordCloud(collocations = False, \n",
    "                           background_color = 'white').generate(text)\n",
    "    position += 1\n",
    "    \n",
    "    ax.imshow(word_cloud, interpolation='bilinear')\n",
    "    fig.set_figheight(15)\n",
    "    plt.axis('off')\n",
    "    plt.title('{} ({} videos)'.format(cluster, len(cluster_data)))"
   ]
  },
  {
   "cell_type": "markdown",
   "id": "26aaf82d",
   "metadata": {},
   "source": [
    "# Toxicity analysis"
   ]
  },
  {
   "cell_type": "markdown",
   "id": "82d47cf0",
   "metadata": {},
   "source": [
    "## Toxicity analysis with ToLD-Br"
   ]
  },
  {
   "cell_type": "code",
   "execution_count": null,
   "id": "216485b5",
   "metadata": {},
   "outputs": [],
   "source": [
    "import os\n",
    "from simpletransformers.classification import ClassificationModel\n",
    "\n",
    "os.environ['modelpath'] = \"../model/toxic_bert_model.zip\""
   ]
  },
  {
   "cell_type": "code",
   "execution_count": null,
   "id": "41d3a6d7",
   "metadata": {},
   "outputs": [],
   "source": [
    "#!unzip -o \"$modelpath\" -d ."
   ]
  },
  {
   "cell_type": "code",
   "execution_count": null,
   "id": "a973c787",
   "metadata": {},
   "outputs": [],
   "source": [
    "model = ClassificationModel(\"distilbert\", \"toxic_bert_model\", use_cuda=False)"
   ]
  },
  {
   "cell_type": "code",
   "execution_count": null,
   "id": "74818e8d",
   "metadata": {},
   "outputs": [],
   "source": [
    "predictions, outputs = model.predict(data['full_text'].tolist())"
   ]
  },
  {
   "cell_type": "code",
   "execution_count": null,
   "id": "cbff21b9",
   "metadata": {},
   "outputs": [],
   "source": [
    "data['is_toxic'] = predictions\n",
    "data['toxicity_min'] = [value[0] for value in outputs]\n",
    "data['toxicity_max'] = [value[1] for value in outputs]"
   ]
  },
  {
   "cell_type": "markdown",
   "id": "22f21fd0",
   "metadata": {},
   "source": [
    "### Saving dataset"
   ]
  },
  {
   "cell_type": "code",
   "execution_count": null,
   "id": "41d1aa0d",
   "metadata": {},
   "outputs": [],
   "source": [
    "data.to_csv('../data/processed/predictions_btm_whisper.csv', index=False)"
   ]
  }
 ],
 "metadata": {
  "kernelspec": {
   "display_name": "nlp",
   "language": "python",
   "name": "nlp"
  },
  "language_info": {
   "codemirror_mode": {
    "name": "ipython",
    "version": 3
   },
   "file_extension": ".py",
   "mimetype": "text/x-python",
   "name": "python",
   "nbconvert_exporter": "python",
   "pygments_lexer": "ipython3",
   "version": "3.9.12"
  }
 },
 "nbformat": 4,
 "nbformat_minor": 5
}

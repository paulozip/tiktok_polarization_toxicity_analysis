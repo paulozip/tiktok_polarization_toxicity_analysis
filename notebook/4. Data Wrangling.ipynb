{
 "cells": [
  {
   "cell_type": "code",
   "execution_count": null,
   "id": "hispanic-queen",
   "metadata": {},
   "outputs": [],
   "source": [
    "import pandas as pd\n",
    "\n",
    "pd.set_option('display.float_format', lambda x: '%.3f' % x)"
   ]
  },
  {
   "cell_type": "markdown",
   "id": "8e7545c3",
   "metadata": {},
   "source": [
    "# Loading data"
   ]
  },
  {
   "cell_type": "markdown",
   "id": "e49e0f99",
   "metadata": {},
   "source": [
    "### Loading whisper transcripted data"
   ]
  },
  {
   "cell_type": "code",
   "execution_count": null,
   "id": "alien-offense",
   "metadata": {},
   "outputs": [],
   "source": [
    "df_transcripted_videos = pd.read_csv('../data/processed/transcripted_audios.csv')\n",
    "print(df_transcripted_videos.shape)\n",
    "df_transcripted_videos.head()"
   ]
  },
  {
   "cell_type": "markdown",
   "id": "e847b67b",
   "metadata": {},
   "source": [
    "### Parsed data"
   ]
  },
  {
   "cell_type": "code",
   "execution_count": null,
   "id": "1fd799a9",
   "metadata": {},
   "outputs": [],
   "source": [
    "df_parsed_data = pd.read_csv('../data/processed/transcripted_processed_videos.csv')\n",
    "print(df_parsed_data.shape)\n",
    "df_parsed_data.head()"
   ]
  },
  {
   "cell_type": "markdown",
   "id": "1a60da01",
   "metadata": {},
   "source": [
    "### Selecting only PT videos"
   ]
  },
  {
   "cell_type": "code",
   "execution_count": null,
   "id": "1b298662",
   "metadata": {},
   "outputs": [],
   "source": [
    "df_transcripted_videos = df_transcripted_videos.loc[df_transcripted_videos['detected_language'] == 'pt']"
   ]
  },
  {
   "cell_type": "markdown",
   "id": "dd4193bb",
   "metadata": {},
   "source": [
    "# Merging DataFrames"
   ]
  },
  {
   "cell_type": "code",
   "execution_count": null,
   "id": "e233b4da",
   "metadata": {},
   "outputs": [],
   "source": [
    "df_transcripted_videos = df_transcripted_videos.merge(df_parsed_data, how='left', right_on='id', left_on='audio_id')"
   ]
  },
  {
   "cell_type": "markdown",
   "id": "recognized-buddy",
   "metadata": {},
   "source": [
    "## Dealing with NaN"
   ]
  },
  {
   "cell_type": "code",
   "execution_count": null,
   "id": "operational-bishop",
   "metadata": {},
   "outputs": [],
   "source": [
    "null_values = df_transcripted_videos.isnull().sum().sort_values(ascending=False)\n",
    "null_values[null_values > 0]"
   ]
  },
  {
   "cell_type": "code",
   "execution_count": null,
   "id": "declared-slope",
   "metadata": {},
   "outputs": [],
   "source": [
    "df_transcripted_videos.dropna(subset=['transcription'], inplace=True)\n",
    "df_transcripted_videos['stickers_on_video'].fillna('', inplace=True)\n",
    "df_transcripted_videos['author_signature'].fillna('', inplace=True)\n",
    "df_transcripted_videos['music_url'].fillna('', inplace=True)\n",
    "df_transcripted_videos['music_author'].fillna('', inplace=True)"
   ]
  },
  {
   "cell_type": "markdown",
   "id": "commercial-conflict",
   "metadata": {},
   "source": [
    "## Datetime columns"
   ]
  },
  {
   "cell_type": "code",
   "execution_count": null,
   "id": "outdoor-prize",
   "metadata": {},
   "outputs": [],
   "source": [
    "df_transcripted_videos['create_time'] = pd.to_datetime(df_transcripted_videos['create_time'], unit='s')\n",
    "df_transcripted_videos['create_time'] = df_transcripted_videos['create_time'].dt.tz_localize('UTC').dt.tz_convert('America/Sao_Paulo')"
   ]
  },
  {
   "cell_type": "markdown",
   "id": "nonprofit-wings",
   "metadata": {},
   "source": [
    "# Creating new columns"
   ]
  },
  {
   "cell_type": "code",
   "execution_count": null,
   "id": "unique-mitchell",
   "metadata": {},
   "outputs": [],
   "source": [
    "# Column with video URL\n",
    "df_transcripted_videos['video_url'] = 'https://www.tiktok.com/@' + df_transcripted_videos['author_unique_id'] + '/video/' + df_transcripted_videos['id'].astype(str)"
   ]
  },
  {
   "cell_type": "markdown",
   "id": "fresh-perfume",
   "metadata": {},
   "source": [
    "# Filtering columns"
   ]
  },
  {
   "cell_type": "code",
   "execution_count": null,
   "id": "compatible-helen",
   "metadata": {},
   "outputs": [],
   "source": [
    "df_processed = df_transcripted_videos.loc[:, ['id', 'search_tag', 'create_time', 'desc', 'stickers_on_video', 'hashtags', 'duration', \n",
    "                                              'is_duet_enabled', 'duet_from_id', 'music_id', 'music_title', 'music_url', 'music_author', \n",
    "                                              'music_is_original_audio', 'digg_count', 'share_count', 'comment_count', 'play_count', \n",
    "                                              'author_unique_id', 'author_nickname', 'author_avatar', 'author_signature',\n",
    "                                              'author_is_verified', 'author_duet_setting', 'author_following_count',\n",
    "                                              'author_followers_count', 'author_heart_count', 'author_digg_count', 'author_heart',\n",
    "                                              'video_path', 'video_url', 'transcription', 'video_contains_music', 'video_contains_male',\n",
    "                                              'video_contains_female', 'video_contains_noise', 'video_contains_no_energy', 'segments',\n",
    "                                              'total_music_duration', 'percentage_of_video_made_of_music']]\n",
    "df_processed.head()"
   ]
  },
  {
   "cell_type": "code",
   "execution_count": null,
   "id": "owned-iceland",
   "metadata": {
    "scrolled": true
   },
   "outputs": [],
   "source": [
    "print('Difference of columns of processed and transcripted dataset')\n",
    "print(set(df_transcripted_videos.columns).difference(set(df_processed.columns)))"
   ]
  },
  {
   "cell_type": "markdown",
   "id": "primary-opinion",
   "metadata": {},
   "source": [
    "# Renaming columns"
   ]
  },
  {
   "cell_type": "code",
   "execution_count": null,
   "id": "subjective-impression",
   "metadata": {},
   "outputs": [],
   "source": [
    "df_processed.rename(columns={'hashtags': 'video_hashtags',\n",
    "                             'desc': 'video_desc',\n",
    "                             'duration': 'video_duration_in_sec'},\n",
    "                    inplace=True, errors='raise')"
   ]
  },
  {
   "cell_type": "markdown",
   "id": "sufficient-wagner",
   "metadata": {},
   "source": [
    "# Saving DataFrame"
   ]
  },
  {
   "cell_type": "code",
   "execution_count": null,
   "id": "special-exemption",
   "metadata": {},
   "outputs": [],
   "source": [
    "df_processed.to_csv('../data/processed/cleaned_transcripted_dataset.csv', index=False)"
   ]
  }
 ],
 "metadata": {
  "kernelspec": {
   "display_name": "Python 3 (ipykernel)",
   "language": "python",
   "name": "python3"
  },
  "language_info": {
   "codemirror_mode": {
    "name": "ipython",
    "version": 3
   },
   "file_extension": ".py",
   "mimetype": "text/x-python",
   "name": "python",
   "nbconvert_exporter": "python",
   "pygments_lexer": "ipython3",
   "version": "3.7.10"
  }
 },
 "nbformat": 4,
 "nbformat_minor": 5
}

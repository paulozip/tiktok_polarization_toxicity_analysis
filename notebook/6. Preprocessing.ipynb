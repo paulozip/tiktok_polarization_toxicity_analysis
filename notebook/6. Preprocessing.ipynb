{
 "cells": [
  {
   "cell_type": "markdown",
   "id": "ada36560",
   "metadata": {},
   "source": [
    "# Ideias\n",
    "Procurar palavras que aparecem mais em comum com outras (e.g Bolsonaro, Lula, presidente, etc.)"
   ]
  },
  {
   "cell_type": "code",
   "execution_count": null,
   "id": "thick-cisco",
   "metadata": {},
   "outputs": [],
   "source": [
    "from nltk.corpus import stopwords\n",
    "from tqdm import tqdm\n",
    "\n",
    "import numpy as np\n",
    "import pandas as pd\n",
    "import warnings\n",
    "import spacy\n",
    "\n",
    "warnings.filterwarnings(\"ignore\")\n",
    "pt_br_stopwords = stopwords.words('portuguese')\n",
    "nlp = spacy.load('pt_core_news_lg')"
   ]
  },
  {
   "cell_type": "code",
   "execution_count": null,
   "id": "a806c52a",
   "metadata": {},
   "outputs": [],
   "source": [
    "# Filler words to be removed\n",
    "fillers = ['tá', 'ir', 'né', 'eis', 'aí', 'ai', 'lá', 'é', 'ah', 'aqui', 'então', 'dar', \n",
    "          'assim', 'ficar', 'ter', 'poxa', 'gente', 'blá', 'olhar', 'tipo', 'nado', 'bom', 'ó', \n",
    "           'ali', 'to', 'tô']"
   ]
  },
  {
   "cell_type": "code",
   "execution_count": null,
   "id": "selected-fiber",
   "metadata": {},
   "outputs": [],
   "source": [
    "data = pd.read_csv('../data/processed/cleaned_transcripted_dataset.csv')\n",
    "print(data.shape)\n",
    "data.head()"
   ]
  },
  {
   "cell_type": "markdown",
   "id": "latin-exposure",
   "metadata": {},
   "source": [
    "# Preprocessing"
   ]
  },
  {
   "cell_type": "code",
   "execution_count": null,
   "id": "straight-tenant",
   "metadata": {},
   "outputs": [],
   "source": [
    "data['full_text'] = data['video_desc'].fillna('') + ' ' + data['transcription'] + ' ' + data['stickers_on_video'].fillna('')\n",
    "data['full_text'] = data['full_text'].str.lower()\n",
    "\n",
    "data.iloc[1]"
   ]
  },
  {
   "cell_type": "markdown",
   "id": "0ad3bd0a",
   "metadata": {},
   "source": [
    "# Lemmatization"
   ]
  },
  {
   "cell_type": "code",
   "execution_count": null,
   "id": "opposite-holly",
   "metadata": {},
   "outputs": [],
   "source": [
    "lemmas = []\n",
    "for doc in tqdm(nlp.pipe(data['full_text'], disable=[\"tok2vec\", \"tagger\", \"parser\", \"attribute_ruler\"], n_process=-1), total=len(data['full_text'])):\n",
    "    doc_lemmas = []\n",
    "    for token in doc:\n",
    "        str_token = str(token)\n",
    "        if not token.is_punct and str_token not in pt_br_stopwords:\n",
    "            doc_lemmas.append(token.lemma_)\n",
    "    lemmas.append(' '.join(doc_lemmas))\n",
    "\n",
    "data['full_text_lemmas'] = lemmas"
   ]
  },
  {
   "cell_type": "markdown",
   "id": "eb9afdc7",
   "metadata": {},
   "source": [
    "# Removing fillers"
   ]
  },
  {
   "cell_type": "code",
   "execution_count": null,
   "id": "4cd6efc7",
   "metadata": {},
   "outputs": [],
   "source": [
    "for filler in fillers:\n",
    "    filler = ' {} '.format(filler)\n",
    "    data['full_text_lemmas'] = data['full_text_lemmas'].str.replace(filler, ' ')"
   ]
  },
  {
   "cell_type": "markdown",
   "id": "9a87ccc2",
   "metadata": {},
   "source": [
    "# Saving dataset"
   ]
  },
  {
   "cell_type": "code",
   "execution_count": null,
   "id": "5a8703ad",
   "metadata": {},
   "outputs": [],
   "source": [
    "data.to_csv('../data/processed/preprocessed_lemma_dataset.csv', index=False)"
   ]
  }
 ],
 "metadata": {
  "kernelspec": {
   "display_name": "nlp",
   "language": "python",
   "name": "nlp"
  },
  "language_info": {
   "codemirror_mode": {
    "name": "ipython",
    "version": 3
   },
   "file_extension": ".py",
   "mimetype": "text/x-python",
   "name": "python",
   "nbconvert_exporter": "python",
   "pygments_lexer": "ipython3",
   "version": "3.9.12"
  }
 },
 "nbformat": 4,
 "nbformat_minor": 5
}

{
 "cells": [
  {
   "cell_type": "code",
   "execution_count": null,
   "id": "448fcbf9",
   "metadata": {},
   "outputs": [],
   "source": [
    "import pandas as pd\n",
    "\n",
    "from tqdm import tqdm\n",
    "\n",
    "# Audio segmentation library\n",
    "from inaSpeechSegmenter import Segmenter\n",
    "from inaSpeechSegmenter.export_funcs import seg2csv, seg2textgrid"
   ]
  },
  {
   "cell_type": "code",
   "execution_count": null,
   "id": "54b7f857",
   "metadata": {},
   "outputs": [],
   "source": [
    "BASE_PATH = '../data/videos/'"
   ]
  },
  {
   "cell_type": "code",
   "execution_count": null,
   "id": "e5d47952",
   "metadata": {},
   "outputs": [],
   "source": [
    "def segment_audio(video_id):\n",
    "    # Path of the media\n",
    "    media = BASE_PATH + f'{video_id}.mp4'\n",
    "\n",
    "    # starting audio segmentation\n",
    "    segmentation = seg(media)\n",
    "    \n",
    "    return segmentation"
   ]
  },
  {
   "cell_type": "markdown",
   "id": "2adecfd6",
   "metadata": {},
   "source": [
    "# Data"
   ]
  },
  {
   "cell_type": "code",
   "execution_count": null,
   "id": "def8081f",
   "metadata": {},
   "outputs": [],
   "source": [
    "df_videos = pd.read_csv('../data/processed/parsed_dataset.csv', delimiter=';')\n",
    "df_videos.drop_duplicates(subset=['id'], inplace=True)\n",
    "df_videos.head()"
   ]
  },
  {
   "cell_type": "markdown",
   "id": "105298b8",
   "metadata": {},
   "source": [
    "# Audio segmentation"
   ]
  },
  {
   "cell_type": "code",
   "execution_count": null,
   "id": "3c0c5516",
   "metadata": {},
   "outputs": [],
   "source": [
    "# create an instance of speech segmenter\n",
    "# this loads neural networks and may last few seconds\n",
    "# Warnings have no incidence on the results\n",
    "seg = Segmenter()"
   ]
  },
  {
   "cell_type": "markdown",
   "id": "376f0d1c",
   "metadata": {},
   "source": [
    "# Parsing videos to extract audio segmentation"
   ]
  },
  {
   "cell_type": "code",
   "execution_count": null,
   "id": "7570ca86",
   "metadata": {},
   "outputs": [],
   "source": [
    "videos_segmentation_parsed = []"
   ]
  },
  {
   "cell_type": "code",
   "execution_count": null,
   "id": "ddfa94d0",
   "metadata": {
    "scrolled": true
   },
   "outputs": [],
   "source": [
    "for video in tqdm(df_videos.loc[~df_videos['id'].isin(df_videos_segmentation_parsed['video_id']), 'id']):\n",
    "    try:\n",
    "        segmentation = segment_audio(video)\n",
    "    except:\n",
    "        continue\n",
    "    \n",
    "    video_segmentations = {\n",
    "        'video_id': video, \n",
    "        'video_contains_music': False, \n",
    "        'video_contains_male': False,\n",
    "        'video_contains_female': False,\n",
    "        'video_contains_noise': False,\n",
    "        'video_contains_no_energy': False,\n",
    "        'segments': []}\n",
    "    \n",
    "    for label, start, end, in segmentation:\n",
    "        segmentation_dict = {}\n",
    "        \n",
    "        if label == 'music':\n",
    "            video_segmentations['video_contains_music'] = True\n",
    "        if label == 'male':\n",
    "            video_segmentations['video_contains_male'] = True\n",
    "        if label == 'female':\n",
    "            video_segmentations['video_contains_female'] = True\n",
    "        if label == 'noEnergy':\n",
    "            video_segmentations['video_contains_no_energy'] = True\n",
    "        if label == 'noise':\n",
    "            video_segmentations['video_contains_noise'] = True\n",
    "            \n",
    "        segmentation_dict['label'] = label\n",
    "        segmentation_dict['start'] = start\n",
    "        segmentation_dict['end'] = end\n",
    "        \n",
    "        video_segmentations['segments'].append(segmentation_dict)\n",
    "    \n",
    "    videos_segmentation_parsed.append(video_segmentations)"
   ]
  },
  {
   "cell_type": "code",
   "execution_count": null,
   "id": "b70b431f",
   "metadata": {},
   "outputs": [],
   "source": [
    "df_videos_segmentation_parsed = pd.DataFrame.from_dict(videos_segmentation_parsed)\n",
    "df_videos_segmentation_parsed.to_csv('../data/processed/audio_segmentation_dataset.csv', index=False)"
   ]
  },
  {
   "cell_type": "markdown",
   "id": "d5e3a579",
   "metadata": {},
   "source": [
    "# Audio segment dataframe"
   ]
  },
  {
   "cell_type": "code",
   "execution_count": null,
   "id": "15166461",
   "metadata": {},
   "outputs": [],
   "source": [
    "audio_segments_list = []\n",
    "for video in videos_segmentation_parsed:\n",
    "    for segment in video['segments']:\n",
    "        video_segments_dict = {\n",
    "            'video_id': video['video_id'], \n",
    "            'label': segment['label'],\n",
    "            'start': segment['start'],\n",
    "            'end': segment['end']}\n",
    "        \n",
    "        audio_segments_list.append(video_segments_dict)\n",
    "        \n",
    "audio_segments_df = pd.DataFrame.from_dict(audio_segments_list)\n",
    "# Saving audio segments to CSV\n",
    "audio_segments_df.to_csv('../data/processed/video_audio_segments.csv', index=False)"
   ]
  },
  {
   "cell_type": "markdown",
   "id": "9da825f1",
   "metadata": {},
   "source": [
    "# Saving dataset"
   ]
  },
  {
   "cell_type": "code",
   "execution_count": null,
   "id": "546eff11",
   "metadata": {},
   "outputs": [],
   "source": [
    "df_segmented_videos = df_videos.merge(df_videos_segmentation_parsed, left_on='id', right_on='video_id', how='left')"
   ]
  },
  {
   "cell_type": "code",
   "execution_count": null,
   "id": "309685f0",
   "metadata": {},
   "outputs": [],
   "source": [
    "df_segmented_videos = df_segmented_videos.dropna(subset=['video_id'])\n",
    "df_segmented_videos = df_segmented_videos.drop(['video_id'], axis=1)"
   ]
  },
  {
   "cell_type": "code",
   "execution_count": null,
   "id": "0f49ac2c",
   "metadata": {},
   "outputs": [],
   "source": [
    "df_segmented_videos.to_csv('../data/processed/videos_with_segmented_audio.csv', index=False)"
   ]
  }
 ],
 "metadata": {
  "kernelspec": {
   "display_name": "nlp",
   "language": "python",
   "name": "nlp"
  },
  "language_info": {
   "codemirror_mode": {
    "name": "ipython",
    "version": 3
   },
   "file_extension": ".py",
   "mimetype": "text/x-python",
   "name": "python",
   "nbconvert_exporter": "python",
   "pygments_lexer": "ipython3",
   "version": "3.9.12"
  }
 },
 "nbformat": 4,
 "nbformat_minor": 5
}

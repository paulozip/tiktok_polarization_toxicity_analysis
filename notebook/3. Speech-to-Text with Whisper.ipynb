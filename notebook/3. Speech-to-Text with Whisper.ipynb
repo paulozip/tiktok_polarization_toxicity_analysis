{
 "cells": [
  {
   "cell_type": "code",
   "execution_count": null,
   "id": "aac5c132-6485-43c0-92af-f60ecaae68a8",
   "metadata": {},
   "outputs": [],
   "source": [
    "from tqdm import tqdm\n",
    "from glob import glob\n",
    "import pandas as pd\n",
    "import whisper"
   ]
  },
  {
   "cell_type": "markdown",
   "id": "59e41634-01f2-46f4-82ca-f52734c27038",
   "metadata": {},
   "source": [
    "# Loading files"
   ]
  },
  {
   "cell_type": "code",
   "execution_count": null,
   "id": "f057355c-fbf9-4e3e-b2d0-dfdca757e2e5",
   "metadata": {},
   "outputs": [],
   "source": [
    "DATASET_PATH='../data/audios/'\n",
    "DATASET_FILES = glob(DATASET_PATH + '*.mp3')"
   ]
  },
  {
   "cell_type": "markdown",
   "id": "a94cc26e-9b2d-4d95-9da3-9358562fac17",
   "metadata": {},
   "source": [
    "# Using Whisper"
   ]
  },
  {
   "cell_type": "code",
   "execution_count": null,
   "id": "59395008-59d2-4ebd-b00b-eb41b1df5665",
   "metadata": {},
   "outputs": [],
   "source": [
    "model = whisper.load_model(\"medium\")"
   ]
  },
  {
   "cell_type": "code",
   "execution_count": null,
   "id": "7a4dab09-848c-4719-bf52-4685eac5e84b",
   "metadata": {},
   "outputs": [],
   "source": [
    "final_dataset = []\n",
    "\n",
    "for audio_file in tqdm(DATASET_FILES):\n",
    "    audio_data = {}\n",
    "    audio_path = audio_file\n",
    "    audio_id = audio_path.replace(DATASET_PATH, '').replace('.mp3', '')\n",
    "    \n",
    "    audio = whisper.load_audio(audio_file)\n",
    "    audio = whisper.pad_or_trim(audio)\n",
    "\n",
    "    # make log-Mel spectrogram and move to the same device as the model\n",
    "    mel = whisper.log_mel_spectrogram(audio).to(model.device)\n",
    "    \n",
    "    _, probs = model.detect_language(mel)\n",
    "    detected_language = max(probs, key=probs.get)\n",
    "    \n",
    "    result = model.transcribe(audio_path)\n",
    "    \n",
    "    audio_data['audio_id'] = audio_id\n",
    "    audio_data['transcription'] = result[\"text\"].strip()\n",
    "    audio_data['detected_language'] = detected_language\n",
    "    \n",
    "    final_dataset.append(audio_data)\n",
    "    \n",
    "final_dataset_df = pd.DataFrame.from_dict(final_dataset)\n",
    "final_dataset_df.to_csv('transcripted_audios.csv', index=False)"
   ]
  }
 ],
 "metadata": {
  "kernelspec": {
   "display_name": "Python 3 (ipykernel)",
   "language": "python",
   "name": "python3"
  },
  "language_info": {
   "codemirror_mode": {
    "name": "ipython",
    "version": 3
   },
   "file_extension": ".py",
   "mimetype": "text/x-python",
   "name": "python",
   "nbconvert_exporter": "python",
   "pygments_lexer": "ipython3",
   "version": "3.7.10"
  }
 },
 "nbformat": 4,
 "nbformat_minor": 5
}
